{
  "nbformat": 4,
  "nbformat_minor": 0,
  "metadata": {
    "colab": {
      "name": "(Puja) Python Tips & Tricks.ipynb",
      "provenance": [],
      "collapsed_sections": [
        "b7t3NC9z5Fgz",
        "E-hLBhUcLPUS",
        "LUUixL9hBjus",
        "vofQ92kqBoZr",
        "b-OynIHzBwP6",
        "08I3cmJxCK0F",
        "Ameha7O49r70",
        "I7i9EHITBpL0",
        "SqfaBt-rUMUe",
        "h5dFu2AMWrTN",
        "Yuj0KbxODRns",
        "lBmu8f-rVUfC",
        "-CFU83jVYHI9",
        "gU3pBLzjfHiy",
        "QktgbyCqjXh5",
        "YHc1LSUgmM70",
        "YtEgFaZGo4Uj",
        "qLf2cOhNwiXO",
        "FLtiMT-v2P8u",
        "G8gC_xl12VD3",
        "O4eBduD8IRNO",
        "68BW2HAdeqw9",
        "2_P7XCw0jM9O",
        "lRVi-ubWNV2H",
        "AFnIxSXLODeW"
      ],
      "toc_visible": true
    },
    "kernelspec": {
      "name": "python3",
      "display_name": "Python 3"
    },
    "language_info": {
      "name": "python"
    }
  },
  "cells": [
    {
      "cell_type": "markdown",
      "metadata": {
        "id": "uZDWjOhzBNZj"
      },
      "source": [
        "# Become a Python Expert: it's as easy as 0, 1, 2!\n",
        "\n",
        "\n",
        "Hopefully this will be helpful for everyone, whether you're a beginner or pretty experienced. This collection doesn't go over specifics of how to do things which are easily Google-able, rather it provides a list of tips and tricks that most people would never realize exist.\n",
        "Note: Run \"Helpers for this notebook\" before running examples.\n",
        "\n",
        "Helpful Links:\n",
        "*   https://gto76.github.io/python-cheatsheet/\n",
        "*   https://www.pythoncheatsheet.org/\n",
        "\n",
        "Collection curated by Kenny Kim for NASA PAXC, April 2021\n",
        "\n",
        "Please contact me if you have any questions about Python or programming, especially if it's for a personal project!\n",
        "\n",
        "kenny.kim@nasa.gov | kennykim11@gmail.com | Discord: Kenny#1448 | https://www.linkedin.com/in/kennykim11/"
      ]
    },
    {
      "cell_type": "code",
      "metadata": {
        "id": "TUr_pAjSGbhr",
        "colab": {
          "base_uri": "https://localhost:8080/"
        },
        "outputId": "3c292ac6-e4b4-48a6-c891-717163dfb964"
      },
      "source": [
        "import this"
      ],
      "execution_count": 1,
      "outputs": [
        {
          "output_type": "stream",
          "name": "stdout",
          "text": [
            "The Zen of Python, by Tim Peters\n",
            "\n",
            "Beautiful is better than ugly.\n",
            "Explicit is better than implicit.\n",
            "Simple is better than complex.\n",
            "Complex is better than complicated.\n",
            "Flat is better than nested.\n",
            "Sparse is better than dense.\n",
            "Readability counts.\n",
            "Special cases aren't special enough to break the rules.\n",
            "Although practicality beats purity.\n",
            "Errors should never pass silently.\n",
            "Unless explicitly silenced.\n",
            "In the face of ambiguity, refuse the temptation to guess.\n",
            "There should be one-- and preferably only one --obvious way to do it.\n",
            "Although that way may not be obvious at first unless you're Dutch.\n",
            "Now is better than never.\n",
            "Although never is often better than *right* now.\n",
            "If the implementation is hard to explain, it's a bad idea.\n",
            "If the implementation is easy to explain, it may be a good idea.\n",
            "Namespaces are one honking great idea -- let's do more of those!\n"
          ]
        }
      ]
    },
    {
      "cell_type": "markdown",
      "metadata": {
        "id": "ntK-qm_qBXy7"
      },
      "source": [
        "###### Helpers for this notebook"
      ]
    },
    {
      "cell_type": "code",
      "metadata": {
        "id": "XI26ZUDrGptz"
      },
      "source": [
        "def dprint(*args): # Emulating Python 3.8's debug prints\n",
        "  vars = []\n",
        "  for arg in args:\n",
        "    for var in arg.split(';'):\n",
        "      vars += [var.strip()]\n",
        "  \n",
        "  max_name_length = max(list(map(lambda x: len(x), vars)))\n",
        "  for var in vars:\n",
        "    print(f'{var.rjust(max_name_length)} = {str(eval(var))}')\n",
        "  print('-' * 80)\n",
        "\n",
        "from math import *\n",
        "from functools import reduce\n",
        "\n",
        "# =Generic Helper Functions=\n",
        "def find_factors(num):\n",
        "    return [num]+[i for i in range(ceil(num/2)+1, 1, -1) if num % i == 0][1:]\n",
        "\n",
        "def find_gcf(num1, num2):\n",
        "    smaller = min(num1, num2)\n",
        "    larger = max(num1, num2)\n",
        "    for i in find_factors(smaller):\n",
        "        if larger % i == 0: return i\n",
        "    return -1\n",
        "\n",
        "def find_lcm(num1, num2):\n",
        "    lcm = reduce((lambda x, y: x*y), set(find_factors(num1) + find_factors(num2)))\n",
        "    return lcm, lcm/num1, lcm/num2"
      ],
      "execution_count": 2,
      "outputs": []
    },
    {
      "cell_type": "markdown",
      "metadata": {
        "id": "b7t3NC9z5Fgz"
      },
      "source": [
        "## Variables"
      ]
    },
    {
      "cell_type": "markdown",
      "metadata": {
        "id": "E-hLBhUcLPUS"
      },
      "source": [
        "##### Augmented Assignment [Basic]"
      ]
    },
    {
      "cell_type": "code",
      "metadata": {
        "id": "xvkN2_myLSGh",
        "colab": {
          "base_uri": "https://localhost:8080/"
        },
        "outputId": "b0e13933-2251-495c-e167-e14e0101b368"
      },
      "source": [
        "#@title\n",
        "a = 5//2 # Divide and round down\n",
        "a **= 2 # Can be done with any math or binary operator == a = a + 1\n",
        "\n",
        "# I'm gonna use my custom dprint a lot because Google Colab doesn't have\n",
        "#  Python 3.8 and debug prints\n",
        "dprint('a')"
      ],
      "execution_count": 3,
      "outputs": [
        {
          "output_type": "stream",
          "name": "stdout",
          "text": [
            "a = 4\n",
            "--------------------------------------------------------------------------------\n"
          ]
        }
      ]
    },
    {
      "cell_type": "markdown",
      "metadata": {
        "id": "LUUixL9hBjus"
      },
      "source": [
        "##### Multiple Assignment [Basic]"
      ]
    },
    {
      "cell_type": "code",
      "metadata": {
        "id": "jx8JuOfp5Bho",
        "colab": {
          "base_uri": "https://localhost:8080/"
        },
        "outputId": "1dfbe472-0190-4d78-f1a8-cd38ade59b1a"
      },
      "source": [
        "a = b = 5+3j # Oh yeah, Python natively supports complex numbers\n",
        "dprint('a; b')\n",
        "\n",
        "a = 1\n",
        "b = 2\n",
        "a, b = b, a\n",
        "dprint('a; b')"
      ],
      "execution_count": 4,
      "outputs": [
        {
          "output_type": "stream",
          "name": "stdout",
          "text": [
            "a = (5+3j)\n",
            "b = (5+3j)\n",
            "--------------------------------------------------------------------------------\n",
            "a = 2\n",
            "b = 1\n",
            "--------------------------------------------------------------------------------\n"
          ]
        }
      ]
    },
    {
      "cell_type": "markdown",
      "metadata": {
        "id": "vofQ92kqBoZr"
      },
      "source": [
        "##### First Class Functions [Basic]"
      ]
    },
    {
      "cell_type": "code",
      "metadata": {
        "id": "5jPOVE2fBpK9",
        "colab": {
          "base_uri": "https://localhost:8080/"
        },
        "outputId": "1af34c82-ba15-4351-e34e-27d32fec143f"
      },
      "source": [
        "def add_two_numbers(x, y):\n",
        "  return x+y\n",
        "\n",
        "c = add_two_numbers # Saving a function as a variable\n",
        "dprint('c(a, b)') # And calling the variable as if it was the function"
      ],
      "execution_count": 5,
      "outputs": [
        {
          "output_type": "stream",
          "name": "stdout",
          "text": [
            "c(a, b) = 3\n",
            "--------------------------------------------------------------------------------\n"
          ]
        }
      ]
    },
    {
      "cell_type": "markdown",
      "metadata": {
        "id": "b-OynIHzBwP6"
      },
      "source": [
        "##### Pass By Value vs Pass By Reference [Basic]"
      ]
    },
    {
      "cell_type": "code",
      "metadata": {
        "id": "XZF-njoWBxmd",
        "colab": {
          "base_uri": "https://localhost:8080/"
        },
        "outputId": "022f031d-8984-46b5-a31e-c4a536b31786"
      },
      "source": [
        "list_1 = [1, 2]\n",
        "list_2 = list_1 # This just set list_2 to point to the same object as list_1\n",
        "list_2[0] = 3\n",
        "dprint('list_1') #Wait, we changed list_2, not list_1\n",
        "\n",
        "\n",
        "import copy\n",
        "list_1 = [1, 2]\n",
        "list_2 = copy.copy(list_1) # This makes list_2 point to a new object with the same values as list_1\n",
        "# Can also do list_2 = list_1[:] for lists specifically\n",
        "list_2[0] = 3\n",
        "dprint('list_1')"
      ],
      "execution_count": 6,
      "outputs": [
        {
          "output_type": "stream",
          "name": "stdout",
          "text": [
            "list_1 = [3, 2]\n",
            "--------------------------------------------------------------------------------\n",
            "list_1 = [1, 2]\n",
            "--------------------------------------------------------------------------------\n"
          ]
        }
      ]
    },
    {
      "cell_type": "markdown",
      "metadata": {
        "id": "lL7Y46st8q8d"
      },
      "source": [
        "## Iterables, Indexing, and Combinatorics"
      ]
    },
    {
      "cell_type": "markdown",
      "metadata": {
        "id": "08I3cmJxCK0F"
      },
      "source": [
        "##### List/Dictionary Creation [Basic]\n"
      ]
    },
    {
      "cell_type": "code",
      "metadata": {
        "id": "04eOeQg6CKeU",
        "colab": {
          "base_uri": "https://localhost:8080/"
        },
        "outputId": "ef6dd1e0-a365-430c-f9fc-f9dbc52dab85"
      },
      "source": [
        "print([0, 1]*5)\n",
        "print(list(range(1,9)))\n",
        "\n",
        "lst = ['Hello']\n",
        "lst += ['There'] # Instead of .append(), +=[] is shorter\n",
        "lst += [{'General': 'Kenobi'}] # You can add different types to the same list\n",
        "\n",
        "import os\n",
        "class Thingey:\n",
        "  def __init__(self, num):\n",
        "    self.num = num\n",
        "  def get_num(self):\n",
        "    return self.num\n",
        "\n",
        "thing = Thingey(5)\n",
        "# Anything hashable can be a key, even a module, class, function, or object\n",
        "print({os: 0, Thingey: 0, Thingey.get_num: 0, thing: 0})"
      ],
      "execution_count": 17,
      "outputs": [
        {
          "output_type": "stream",
          "name": "stdout",
          "text": [
            "[0, 1, 0, 1, 0, 1, 0, 1, 0, 1]\n",
            "[1, 2, 3, 4, 5, 6, 7, 8]\n",
            "{<module 'os' from '/usr/lib/python3.7/os.py'>: 0, <class '__main__.Thingey'>: 0, <function Thingey.get_num at 0x7fb711924320>: 0, <__main__.Thingey object at 0x7fb70f6b3b90>: 0}\n"
          ]
        }
      ]
    },
    {
      "cell_type": "markdown",
      "metadata": {
        "id": "Ameha7O49r70"
      },
      "source": [
        "##### Indexing [Basic]"
      ]
    },
    {
      "cell_type": "code",
      "metadata": {
        "id": "qB2RFSRABly9",
        "colab": {
          "base_uri": "https://localhost:8080/"
        },
        "outputId": "153a454e-6d49-47e9-e47b-cd35c73b015a"
      },
      "source": [
        "names = [\"Alice\", \"Bob\", \"Chuck\", \"Dan\", \"Erin\", \"Frank\", \"Grace\"]\n",
        "print(names[3:7]) #[first:last:interval]\n",
        "print(names[:-1]) # == names[1:len(names)]\n",
        "\n",
        "midpoint = len(names)//2\n",
        "print(names[:midpoint], names[midpoint:]) # Effectively splits a list down the middle\n",
        "print(names[::2]) # Skips every second item\n",
        "print(names[1::2]) # Only gets every second item\n",
        "print(names[1:-1]) # Excludes first and last item\n",
        "print(names[::-1]) # Reverse"
      ],
      "execution_count": 18,
      "outputs": [
        {
          "output_type": "stream",
          "name": "stdout",
          "text": [
            "['Dan', 'Erin', 'Frank', 'Grace']\n",
            "['Alice', 'Bob', 'Chuck', 'Dan', 'Erin', 'Frank']\n",
            "['Alice', 'Bob', 'Chuck'] ['Dan', 'Erin', 'Frank', 'Grace']\n",
            "['Alice', 'Chuck', 'Erin', 'Grace']\n",
            "['Bob', 'Dan', 'Frank']\n",
            "['Bob', 'Chuck', 'Dan', 'Erin', 'Frank']\n",
            "['Grace', 'Frank', 'Erin', 'Dan', 'Chuck', 'Bob', 'Alice']\n"
          ]
        }
      ]
    },
    {
      "cell_type": "markdown",
      "metadata": {
        "id": "I7i9EHITBpL0"
      },
      "source": [
        "##### Dictionary Defaults [Intermediate]"
      ]
    },
    {
      "cell_type": "code",
      "metadata": {
        "id": "F5SjQs6wNFax",
        "colab": {
          "base_uri": "https://localhost:8080/"
        },
        "outputId": "a2844453-a358-401e-c35c-874f4c8a732d"
      },
      "source": [
        "shuttle_ende = {\n",
        "    'name': 'Endeavour',\n",
        "    'year_delivered': 1991,\n",
        "    'ov_designation': 'OV-105'}\n",
        "\n",
        "# Since there is no \"mission_count\" field, the following line would error out\n",
        "#print(shuttle_ende['mission_count']) -> KeyError: 'mission_count'\n",
        "\n",
        "# Setdefault adds a default value to return if the field doesn't exist\n",
        "shuttle_ende.setdefault('mission_count', 0) # Default for \"mission_count\" is now 0\n",
        "print(shuttle_ende['mission_count'])\n",
        "shuttle_ende['mission_count'] = 25\n",
        "print(shuttle_ende['mission_count']) # Returns actual value now that it has been assigned\n",
        "\n",
        "# get() is an alternative to traditional indexing that can take a default to return\n",
        "#  but the default is not permenant. \n",
        "print(shuttle_ende.get('status', 'Retired')) \n",
        "\n",
        "#Defaultdict is fantastic, it creates key value pairs if the key does not exist\n",
        "voyager_vists = {\n",
        "    'Voyager 1': ['Jupiter', 'Saturn'],\n",
        "    'Voyager 2': ['Jupiter', 'Saturn', 'Uranus', 'Neptune']}\n",
        "\n",
        "from collections import defaultdict\n",
        "planets = defaultdict(list)\n",
        "for spacecraft in voyager_vists.keys():\n",
        "  for planet in voyager_vists[spacecraft]:\n",
        "    planets[planet].append(spacecraft) # We can append to something that might not exist yet?\n",
        "print(planets)\n",
        "print(dict(planets)) # Cast as normal dictionary\n",
        "\n",
        "# For comparison, this is the traditional equivalent:\n",
        "# planets = {}\n",
        "# for spacecraft in voyager_vists.keys():\n",
        "#   for planet in voyager_vists[spacecraft]:\n",
        "#     if planets[planet]:\n",
        "#       planets[planet] = []\n",
        "#     else:\n",
        "#       planets[planet].append(spacecraft)"
      ],
      "execution_count": 19,
      "outputs": [
        {
          "output_type": "stream",
          "name": "stdout",
          "text": [
            "0\n",
            "25\n",
            "Retired\n",
            "defaultdict(<class 'list'>, {'Jupiter': ['Voyager 1', 'Voyager 2'], 'Saturn': ['Voyager 1', 'Voyager 2'], 'Uranus': ['Voyager 2'], 'Neptune': ['Voyager 2']})\n",
            "{'Jupiter': ['Voyager 1', 'Voyager 2'], 'Saturn': ['Voyager 1', 'Voyager 2'], 'Uranus': ['Voyager 2'], 'Neptune': ['Voyager 2']}\n"
          ]
        }
      ]
    },
    {
      "cell_type": "markdown",
      "metadata": {
        "id": "SqfaBt-rUMUe"
      },
      "source": [
        "##### Comprehensions [Basic]"
      ]
    },
    {
      "cell_type": "code",
      "metadata": {
        "id": "yW4YINnIUPXQ",
        "colab": {
          "base_uri": "https://localhost:8080/"
        },
        "outputId": "1d6b2689-f92b-4493-aff8-d4d6799135a7"
      },
      "source": [
        "# Comprehensions are a much shorter way of writing for loops\n",
        "print([x ** 2 for x in range(5)]) # List\n",
        "# Equivalent to:\n",
        "#     listOfNums = []\n",
        "#     for x in range(5):\n",
        "#         listOfNums += [x ** 2]\n",
        "#     print(listOfNums)\n",
        "print({x ** 2 for x in range(5)}) # Set\n",
        "print({x: x ** 2 for x in range(5)}) # Dict\n",
        "print((x ** 2 for x in range(5))) # Generator\n",
        "print([x ** 2 if not x % 2 else None for x in range(5)]) # Can use ternaries\n",
        "print([x ** 2 for x in range(5) if not x % 2]) # You don't have to use an else if you move the if\n",
        "\n"
      ],
      "execution_count": 21,
      "outputs": [
        {
          "output_type": "stream",
          "name": "stdout",
          "text": [
            "[0, 1, 4, 9, 16]\n",
            "{0, 1, 4, 9, 16}\n",
            "{0: 0, 1: 1, 2: 4, 3: 9, 4: 16}\n",
            "<generator object <genexpr> at 0x7fb71190aa50>\n",
            "[0, None, 4, None, 16]\n",
            "[0, 4, 16]\n"
          ]
        }
      ]
    },
    {
      "cell_type": "markdown",
      "metadata": {
        "id": "h5dFu2AMWrTN"
      },
      "source": [
        "##### Advanced Iteration [Intermediate]"
      ]
    },
    {
      "cell_type": "code",
      "metadata": {
        "id": "ISClWSQJW0sP",
        "colab": {
          "base_uri": "https://localhost:8080/"
        },
        "outputId": "f406c003-665f-45b3-981f-b39a291af6d8"
      },
      "source": [
        "# Enumerate yields the current index and the value\n",
        "phonetic_alphabet = ['Alpha', 'bravo', 'charlie', 'Delta', 'echo']\n",
        "for index, value in enumerate(phonetic_alphabet):\n",
        "  print(index, value)\n",
        "  if not value[0].isupper():\n",
        "    phonetic_alphabet[index] = value.capitalize() # Having index makes it easier to replace elements, better than using .find\n",
        "print(phonetic_alphabet)\n",
        "\n",
        "\n",
        "# Zip merges two iterables together\n",
        "# zip(['a', 'b'], [1, 2]) == (('a', 1), ('b', 2))\n",
        "first_letters = [word[0] for word in phonetic_alphabet]\n",
        "dprint('first_letters')\n",
        "dprint('list(zip(first_letters, phonetic_alphabet))')\n",
        "dprint('dict(zip(first_letters, phonetic_alphabet))')"
      ],
      "execution_count": 22,
      "outputs": [
        {
          "output_type": "stream",
          "name": "stdout",
          "text": [
            "0 Alpha\n",
            "1 bravo\n",
            "2 charlie\n",
            "3 Delta\n",
            "4 echo\n",
            "['Alpha', 'Bravo', 'Charlie', 'Delta', 'Echo']\n",
            "first_letters = ['A', 'B', 'C', 'D', 'E']\n",
            "--------------------------------------------------------------------------------\n",
            "list(zip(first_letters, phonetic_alphabet)) = [('A', 'Alpha'), ('B', 'Bravo'), ('C', 'Charlie'), ('D', 'Delta'), ('E', 'Echo')]\n",
            "--------------------------------------------------------------------------------\n",
            "dict(zip(first_letters, phonetic_alphabet)) = {'A': 'Alpha', 'B': 'Bravo', 'C': 'Charlie', 'D': 'Delta', 'E': 'Echo'}\n",
            "--------------------------------------------------------------------------------\n"
          ]
        }
      ]
    },
    {
      "cell_type": "markdown",
      "metadata": {
        "id": "Yuj0KbxODRns"
      },
      "source": [
        "##### Packing/Unpacking [Advanced]"
      ]
    },
    {
      "cell_type": "code",
      "metadata": {
        "id": "sKroV0VdD7VH",
        "colab": {
          "base_uri": "https://localhost:8080/"
        },
        "outputId": "2915e6d5-daae-414e-e594-0c5137c4b0bd"
      },
      "source": [
        "# The splat operator unpack an iterable into separate values and vice versa\n",
        "nums = [1, 2, 3]\n",
        "print(nums) # 1 value which is a list\n",
        "print(*nums) # Now unpacked into 3 separate values\n",
        "\n",
        "#Can use it to split lists\n",
        "first, *rest = [\"Alice\", \"Bob\", \"Chuck\", \"Dan\", \"Erin\", \"Frank\", \"Grace\"]\n",
        "dprint('first; rest')\n",
        "first, second, third, *rest, second_to_last, last = [\"Alice\", \"Bob\", \"Chuck\", \"Dan\", \"Erin\", \"Frank\", \"Grace\"]\n",
        "dprint('first; second; third; rest; second_to_last; last')\n",
        "\n",
        "# Can use the splat operator to get an arbitrary number of arguments\n",
        "def add_any_numbers(*args):\n",
        "  print(args)\n",
        "  print(*args)\n",
        "  total = 0\n",
        "  for arg in args:\n",
        "    total += arg\n",
        "  return total\n",
        "\n",
        "dprint('add_any_numbers(17, 2)')\n",
        "dprint('add_any_numbers(17, 2, 38, 41, 6)')\n",
        "\n",
        "\n",
        "# Can also use it to combine things\n",
        "dict_a = {'a': 1}\n",
        "dict_b = {'b': 2}\n",
        "print({**dict_a, **dict_b})"
      ],
      "execution_count": 23,
      "outputs": [
        {
          "output_type": "stream",
          "name": "stdout",
          "text": [
            "[1, 2, 3]\n",
            "1 2 3\n",
            "first = Alice\n",
            " rest = ['Bob', 'Chuck', 'Dan', 'Erin', 'Frank', 'Grace']\n",
            "--------------------------------------------------------------------------------\n",
            "         first = Alice\n",
            "        second = Bob\n",
            "         third = Chuck\n",
            "          rest = ['Dan', 'Erin']\n",
            "second_to_last = Frank\n",
            "          last = Grace\n",
            "--------------------------------------------------------------------------------\n",
            "(17, 2)\n",
            "17 2\n",
            "add_any_numbers(17, 2) = 19\n",
            "--------------------------------------------------------------------------------\n",
            "(17, 2, 38, 41, 6)\n",
            "17 2 38 41 6\n",
            "add_any_numbers(17, 2, 38, 41, 6) = 104\n",
            "--------------------------------------------------------------------------------\n",
            "{'a': 1, 'b': 2}\n"
          ]
        }
      ]
    },
    {
      "cell_type": "markdown",
      "metadata": {
        "id": "lBmu8f-rVUfC"
      },
      "source": [
        "##### Itertools [Advanced]"
      ]
    },
    {
      "cell_type": "code",
      "metadata": {
        "colab": {
          "base_uri": "https://localhost:8080/"
        },
        "id": "STuLCjxTVbHX",
        "outputId": "92a5ffee-3876-46e2-a747-d5e40705fb5d"
      },
      "source": [
        "import itertools\n",
        "letters = ['a', 'b', 'c']\n",
        "numbers = [1, 2, 3]\n",
        "for index, letter in enumerate(itertools.cycle(letters)):\n",
        "  print(index, letter)\n",
        "  if index == 6: break\n",
        "\n",
        "# Combinations returns a grouping of all possible combinations\n",
        "print(list(itertools.combinations(letters, 2))) \n",
        "print(list(itertools.combinations_with_replacement(letters, 2)))\n",
        "# Product returns all possible combos of two iterables\n",
        "print(list(itertools.product(letters, numbers)))"
      ],
      "execution_count": 24,
      "outputs": [
        {
          "output_type": "stream",
          "name": "stdout",
          "text": [
            "0 a\n",
            "1 b\n",
            "2 c\n",
            "3 a\n",
            "4 b\n",
            "5 c\n",
            "6 a\n",
            "[('a', 'b'), ('a', 'c'), ('b', 'c')]\n",
            "[('a', 'a'), ('a', 'b'), ('a', 'c'), ('b', 'b'), ('b', 'c'), ('c', 'c')]\n",
            "[('a', 1), ('a', 2), ('a', 3), ('b', 1), ('b', 2), ('b', 3), ('c', 1), ('c', 2), ('c', 3)]\n"
          ]
        }
      ]
    },
    {
      "cell_type": "markdown",
      "metadata": {
        "id": "trMJbwLa_Ylo"
      },
      "source": [
        "##### Dequeue [Intermediate]"
      ]
    },
    {
      "cell_type": "code",
      "metadata": {
        "colab": {
          "base_uri": "https://localhost:8080/"
        },
        "id": "c3iS7yls_dle",
        "outputId": "b5468158-d406-4bdd-e6e1-e8b3c6aa6030"
      },
      "source": [
        "from collections import deque # Deque is short for double-ended queue\n",
        "dq = deque([1, 2, 3])\n",
        "print(dq)\n",
        "\n",
        "dq.append(4)\n",
        "dq.append(5)\n",
        "dq.appendleft(0)\n",
        "print(dq)\n",
        "\n",
        "dq.popleft() # Can also pop\n",
        "print(dq)\n",
        "\n",
        "dq.rotate(-2) # Move 2 elements in the queue to the back\n",
        "print(dq)"
      ],
      "execution_count": 14,
      "outputs": [
        {
          "output_type": "stream",
          "name": "stdout",
          "text": [
            "deque([1, 2, 3])\n",
            "deque([0, 1, 2, 3, 4, 5])\n",
            "deque([1, 2, 3, 4, 5])\n",
            "deque([3, 4, 5, 1, 2])\n"
          ]
        }
      ]
    },
    {
      "cell_type": "markdown",
      "metadata": {
        "id": "8dy06AJoAt8Q"
      },
      "source": [
        "##### Counter [Basic]"
      ]
    },
    {
      "cell_type": "code",
      "metadata": {
        "colab": {
          "base_uri": "https://localhost:8080/"
        },
        "id": "XrHRZOI3Axq3",
        "outputId": "8fc4d513-1495-403c-a824-6d0c4069fd0c"
      },
      "source": [
        "from collections import Counter\n",
        "list1 = ['blue', 'red', 'blue', 'blue', 'yellow', 'blue', 'red', 'red']\n",
        "counter1 = Counter(list1)\n",
        "print(counter1)\n",
        "print(counter1.most_common(2)) # Get two most common\n",
        "\n",
        "\n",
        "list2 = ['blue', 'yellow']\n",
        "counter2 = Counter(list2)\n",
        "print(counter1 + counter2) # You can add or subtract counters"
      ],
      "execution_count": 15,
      "outputs": [
        {
          "output_type": "stream",
          "name": "stdout",
          "text": [
            "Counter({'blue': 4, 'red': 3, 'yellow': 1})\n",
            "[('blue', 4), ('red', 3)]\n",
            "Counter({'blue': 5, 'red': 3, 'yellow': 2})\n"
          ]
        }
      ]
    },
    {
      "cell_type": "markdown",
      "metadata": {
        "id": "61UkEQBlCP3y"
      },
      "source": [
        "##### Named Tuple [Basic]"
      ]
    },
    {
      "cell_type": "code",
      "metadata": {
        "id": "dTETlZxMCUNP",
        "colab": {
          "base_uri": "https://localhost:8080/"
        },
        "outputId": "f2b8b412-af2c-4604-c68c-4a108edbdc1f"
      },
      "source": [
        "# Named tuples are best for use cases where keys are useful but keys won't change.\n",
        "\n",
        "from collections import namedtuple\n",
        "\n",
        "Coordinates = namedtuple('Coordinates',['longitude', 'latitude'])\n",
        "\n",
        "LaRC = Coordinates(37.086270396889354, -76.38087038705675)  \n",
        "\n",
        "print(LaRC)\n",
        "print(LaRC.latitude)"
      ],
      "execution_count": 16,
      "outputs": [
        {
          "output_type": "stream",
          "name": "stdout",
          "text": [
            "Coordinates(longitude=37.086270396889354, latitude=-76.38087038705675)\n",
            "-76.38087038705675\n"
          ]
        }
      ]
    },
    {
      "cell_type": "markdown",
      "metadata": {
        "id": "1zrQehZKAohH"
      },
      "source": [
        "## Strings and Printing"
      ]
    },
    {
      "cell_type": "markdown",
      "metadata": {
        "id": "-CFU83jVYHI9"
      },
      "source": [
        "##### Strings [Intermediate]"
      ]
    },
    {
      "cell_type": "code",
      "metadata": {
        "colab": {
          "base_uri": "https://localhost:8080/"
        },
        "id": "QYg1lhozYLEs",
        "outputId": "658bb0e7-2a3c-4728-9f77-684cf14de914"
      },
      "source": [
        "hello = 'Hello, World! ' \n",
        "print(hello[1:-5:2]) # Can index like any iterable\n",
        "hello_again =  hello * 2 #Can repeat like any iterable\n",
        "print(hello_again)\n",
        "\n",
        "# f-strings are super handy in Python 3.6\n",
        "print(f'I want to say: \"{hello}\"') \n",
        "#  they insert values inline, aka string interpolation\n",
        "price = 51063825.358\n",
        "print(f'${price:,.2f}') # You can add format specifiers\n",
        "# The \",\" adds thousands separation commas\n",
        "# The \".2f\" rounds the number to 2 decimal places\n",
        "for num in range(1, 5):\n",
        "  print(f'{num:0{num}}') # You can even format the specifiers!!\n",
        "  # The \":0_\" means pad left with \"0\" until it is \"_\" characters long\n",
        "\n",
        "pin_num = '1925'\n",
        "# The following are useful functions for checking user input\n",
        "dprint('pin_num.isalpha(); pin_num.isnumeric(); pin_num.isalnum()')\n",
        "\n",
        "# Justification is great for display charts/tables\n",
        "print('Right'.rjust(20)+'|')\n",
        "print('Center'.center(20)+'|')\n",
        "print('Left'.ljust(20)+'|')"
      ],
      "execution_count": 25,
      "outputs": [
        {
          "output_type": "stream",
          "name": "stdout",
          "text": [
            "el,W\n",
            "Hello, World! Hello, World! \n",
            "I want to say: \"Hello, World! \"\n",
            "$51,063,825.36\n",
            "1\n",
            "02\n",
            "003\n",
            "0004\n",
            "  pin_num.isalpha() = False\n",
            "pin_num.isnumeric() = True\n",
            "  pin_num.isalnum() = True\n",
            "--------------------------------------------------------------------------------\n",
            "               Right|\n",
            "       Center       |\n",
            "Left                |\n"
          ]
        }
      ]
    },
    {
      "cell_type": "markdown",
      "metadata": {
        "id": "gU3pBLzjfHiy"
      },
      "source": [
        "##### Printing [Intermediate]"
      ]
    },
    {
      "cell_type": "code",
      "metadata": {
        "colab": {
          "base_uri": "https://localhost:8080/"
        },
        "id": "5WgIlOiBfIpb",
        "outputId": "49f29ba0-6f2c-437f-afd9-bc3c0a82acb0"
      },
      "source": [
        "print('Loading... ', end='') # End parameter replaces the default newline with any string\n",
        "print('Done!')\n",
        "\n",
        "print(1, 2, 3, sep='; ') # Separator parameter replaces the default space with any string\n",
        "companies = {\n",
        "    'Rocket Lab': {\n",
        "        'founding': 2006,\n",
        "        'rockets': ['Electron']},\n",
        "    'Blue Origin': {\n",
        "        'founding': 2000,\n",
        "        'rockets': ['New Shepard', 'New Glenn']},\n",
        "    'SpaceX': {\n",
        "        'founding': 2002,\n",
        "        'rockets': ['Falcon 1', 'Falcon 9', 'Starship']}}\n",
        "\n",
        "print(companies) # Print is terrible in this case because it is all on one line\n",
        "\n",
        "import pprint # Pprint is very good for 1-layer dictionaries\n",
        "pprint.pprint(companies) # Note that it sorts keys alphabetically\n",
        "#pformat is to get the resulting string\n",
        "\n",
        "import json\n",
        "print(json.dumps(companies, indent=1)) # Use json.dumps and indent for recursive indents"
      ],
      "execution_count": 26,
      "outputs": [
        {
          "output_type": "stream",
          "name": "stdout",
          "text": [
            "Loading... Done!\n",
            "1; 2; 3\n",
            "{'Rocket Lab': {'founding': 2006, 'rockets': ['Electron']}, 'Blue Origin': {'founding': 2000, 'rockets': ['New Shepard', 'New Glenn']}, 'SpaceX': {'founding': 2002, 'rockets': ['Falcon 1', 'Falcon 9', 'Starship']}}\n",
            "{'Blue Origin': {'founding': 2000, 'rockets': ['New Shepard', 'New Glenn']},\n",
            " 'Rocket Lab': {'founding': 2006, 'rockets': ['Electron']},\n",
            " 'SpaceX': {'founding': 2002, 'rockets': ['Falcon 1', 'Falcon 9', 'Starship']}}\n",
            "{\n",
            " \"Rocket Lab\": {\n",
            "  \"founding\": 2006,\n",
            "  \"rockets\": [\n",
            "   \"Electron\"\n",
            "  ]\n",
            " },\n",
            " \"Blue Origin\": {\n",
            "  \"founding\": 2000,\n",
            "  \"rockets\": [\n",
            "   \"New Shepard\",\n",
            "   \"New Glenn\"\n",
            "  ]\n",
            " },\n",
            " \"SpaceX\": {\n",
            "  \"founding\": 2002,\n",
            "  \"rockets\": [\n",
            "   \"Falcon 1\",\n",
            "   \"Falcon 9\",\n",
            "   \"Starship\"\n",
            "  ]\n",
            " }\n",
            "}\n"
          ]
        }
      ]
    },
    {
      "cell_type": "markdown",
      "metadata": {
        "id": "QktgbyCqjXh5"
      },
      "source": [
        "##### Terminal [Basic]"
      ]
    },
    {
      "cell_type": "code",
      "metadata": {
        "colab": {
          "base_uri": "https://localhost:8080/"
        },
        "id": "tayoWRs1jTU-",
        "outputId": "e0e91c4d-5315-4561-abde-c41db224782b"
      },
      "source": [
        "# Who doesn't love some colors?\n",
        "!pip install termcolor\n",
        "from termcolor import colored, cprint\n",
        "print(colored('Warning!', 'red', 'on_yellow', ['bold', 'underline']))\n",
        "\n",
        "# Ooh, or a progress bar!\n",
        "!pip install tqdm\n",
        "from tqdm import tqdm\n",
        "from time import sleep\n",
        "for i in tqdm(range(0, 40), desc='Jaws dropping', unit='drops'):\n",
        "    sleep(0.1)"
      ],
      "execution_count": 27,
      "outputs": [
        {
          "output_type": "stream",
          "name": "stdout",
          "text": [
            "Requirement already satisfied: termcolor in /usr/local/lib/python3.7/dist-packages (1.1.0)\n",
            "\u001b[4m\u001b[1m\u001b[43m\u001b[31mWarning!\u001b[0m\n",
            "Requirement already satisfied: tqdm in /usr/local/lib/python3.7/dist-packages (4.62.2)\n"
          ]
        },
        {
          "output_type": "stream",
          "name": "stderr",
          "text": [
            "Jaws dropping: 100%|██████████| 40/40 [00:04<00:00,  9.85drops/s]\n"
          ]
        }
      ]
    },
    {
      "cell_type": "markdown",
      "metadata": {
        "id": "zmnFDErRBciU"
      },
      "source": [
        "## Conditionals\n"
      ]
    },
    {
      "cell_type": "markdown",
      "metadata": {
        "id": "YHc1LSUgmM70"
      },
      "source": [
        "##### Truthy and Falsy [Basic]"
      ]
    },
    {
      "cell_type": "code",
      "metadata": {
        "colab": {
          "base_uri": "https://localhost:8080/"
        },
        "id": "jC7xEbINmRa7",
        "outputId": "a2f4b8c5-adf8-4ac1-b5e6-8ce7185b24df"
      },
      "source": [
        "# Falsy means that even thought the values are not the boolean False, they evaluate\n",
        "#  to False when used for conditionals (if's, while's, ternaries, etc.)\n",
        "print('None:',   bool(None))\n",
        "print('Int:',    bool(0),   bool(-2)) # 0's are Falsy\n",
        "print('Float:',  bool(0.0), bool(0.0001))\n",
        "print('List:',   bool([]),  bool([None])) #Empty iterables (including strings) are Falsy\n",
        "print('String:', bool(''),  bool(' '))\n",
        "# Besides these, almost everything else evaluates to True\n",
        "\n",
        "if '':\n",
        "  print('I guess empty strings are truthy')\n",
        "else:\n",
        "  print('I guess empty strings are falsy')\n",
        "\n",
        "print(True + 5) # By the way, True is really just 1, which makes some fun possible later on..."
      ],
      "execution_count": 29,
      "outputs": [
        {
          "output_type": "stream",
          "name": "stdout",
          "text": [
            "None: False\n",
            "Int: False True\n",
            "Float: False True\n",
            "List: False True\n",
            "String: False True\n",
            "I guess empty strings are falsy\n",
            "6\n"
          ]
        }
      ]
    },
    {
      "cell_type": "markdown",
      "metadata": {
        "id": "Xx-MGqNiCoTF"
      },
      "source": [
        "##### Operator Chaining [Basic]"
      ]
    },
    {
      "cell_type": "code",
      "metadata": {
        "id": "s1hijqxKCsMA",
        "colab": {
          "base_uri": "https://localhost:8080/"
        },
        "outputId": "4ad7483f-c257-47c8-809e-511c21c916a8"
      },
      "source": [
        "# Unlike many languages, you can chain comparison operators in Python\n",
        "print(3 < 7/2 <= 4)"
      ],
      "execution_count": 33,
      "outputs": [
        {
          "output_type": "stream",
          "name": "stdout",
          "text": [
            "True\n"
          ]
        }
      ]
    },
    {
      "cell_type": "markdown",
      "metadata": {
        "id": "YtEgFaZGo4Uj"
      },
      "source": [
        "##### Ternary and Coalescing [Intermediate]"
      ]
    },
    {
      "cell_type": "code",
      "metadata": {
        "colab": {
          "base_uri": "https://localhost:8080/"
        },
        "id": "jGK_6X-kpV2d",
        "outputId": "b727fade-5f79-49af-c40b-91e4854ebd14"
      },
      "source": [
        "num = 5\n",
        "\n",
        "# Traditional ternary\n",
        "print('odd' if num % 2 else 'even')\n",
        "\n",
        "# Equivalent to but way shorter than:\n",
        "# if num % 2:\n",
        "#   print('odd')\n",
        "# else:\n",
        "#   print('even')\n",
        "\n",
        "# This is slower and less efficient but more fun: \n",
        "print(('even', 'odd')[num % 2]) # False evaluates to 0 and True evaluates to 1\n",
        "\n",
        "\n",
        "# Python has some weird behavior with \"or\" and \"and\", you can use them as defaults\n",
        "#  \"or\" will use the first value that is true, \"and\" will use the last\n",
        "port = input('Port (press enter for default): ') or '3000'\n",
        "print(port)\n",
        "print(3 and 2 and 5)"
      ],
      "execution_count": 36,
      "outputs": [
        {
          "output_type": "stream",
          "name": "stdout",
          "text": [
            "odd\n",
            "odd\n",
            "Port (press enter for default): 3\n",
            "3\n",
            "5\n"
          ]
        }
      ]
    },
    {
      "cell_type": "markdown",
      "metadata": {
        "id": "qLf2cOhNwiXO"
      },
      "source": [
        "##### Any/All [Basic]"
      ]
    },
    {
      "cell_type": "code",
      "metadata": {
        "colab": {
          "base_uri": "https://localhost:8080/"
        },
        "id": "gvnNoBJYwkDK",
        "outputId": "095d1cf7-9ec5-4dfa-8ea5-a4470f48a941"
      },
      "source": [
        "# Any returns True if any of the provided iterable evaluates to True\n",
        "print(any([0, False, 0.0, 0j, {}, [], '']))\n",
        "# All returns True if... well you get the point\n",
        "print(all(planet[0].isupper() for planet in ['Earth', 'Mars', 'Jupiter', 'Saturn']))"
      ],
      "execution_count": 37,
      "outputs": [
        {
          "output_type": "stream",
          "name": "stdout",
          "text": [
            "False\n",
            "True\n"
          ]
        }
      ]
    },
    {
      "cell_type": "markdown",
      "metadata": {
        "id": "d-AxfDKf9_VF"
      },
      "source": [
        "## Functions"
      ]
    },
    {
      "cell_type": "markdown",
      "metadata": {
        "id": "FLtiMT-v2P8u"
      },
      "source": [
        "##### Function Declarations [Intermediate]"
      ]
    },
    {
      "cell_type": "code",
      "metadata": {
        "id": "UJ3lxx70AMOF",
        "colab": {
          "base_uri": "https://localhost:8080/"
        },
        "outputId": "ab55a7da-8d52-4e11-d665-3bd16126600a"
      },
      "source": [
        "# Traditional functions:\n",
        "def add_two_numbers(x, y):\n",
        "  return x+y\n",
        "print(add_two_numbers(1, 2))\n",
        "\n",
        "# Same function but as a lambda\n",
        "add_two_numbers_lam = lambda x, y: x + y\n",
        "print(add_two_numbers_lam(1, 2))\n",
        "\n",
        "# Great as inline arguments\n",
        "from functools import reduce\n",
        "print(reduce(lambda x, y: x * y, range(1, 6)))\n",
        "\n",
        "# Partials fix values to certain arguments of a function call\n",
        "from functools import partial\n",
        "add_five = partial(add_two_numbers, y=5)\n",
        "print(add_five(7))\n",
        "\n"
      ],
      "execution_count": 38,
      "outputs": [
        {
          "output_type": "stream",
          "name": "stdout",
          "text": [
            "3\n",
            "3\n",
            "120\n",
            "12\n"
          ]
        }
      ]
    },
    {
      "cell_type": "markdown",
      "metadata": {
        "id": "G8gC_xl12VD3"
      },
      "source": [
        "##### Special Functions [Advanced]"
      ]
    },
    {
      "cell_type": "code",
      "metadata": {
        "colab": {
          "base_uri": "https://localhost:8080/"
        },
        "id": "nna4EFQY2W_u",
        "outputId": "9ed56922-d1dc-4902-d6ac-c96d36d0e4b6"
      },
      "source": [
        "# Generator functions use \"yield\", which returns a result while not closing the function\n",
        "#  This allows it to be called again and know the state of its last call\n",
        "def fibonacci():\n",
        "    cache = [0, 1] # [total, last total]\n",
        "    while True:\n",
        "        cache = [cache[0] + cache[1], cache[0]] # Change cache\n",
        "        yield cache[0] # Return total\n",
        "\n",
        "for i in fibonacci():\n",
        "  if i > 15:\n",
        "    break\n",
        "  print(i)"
      ],
      "execution_count": 39,
      "outputs": [
        {
          "output_type": "stream",
          "name": "stdout",
          "text": [
            "1\n",
            "1\n",
            "2\n",
            "3\n",
            "5\n",
            "8\n",
            "13\n"
          ]
        }
      ]
    },
    {
      "cell_type": "code",
      "metadata": {
        "id": "tpA1Wa_6Iqj4",
        "colab": {
          "base_uri": "https://localhost:8080/"
        },
        "outputId": "bcbc7b65-1c19-4775-efe1-45dac56f1a24"
      },
      "source": [
        "# Closures are another way of binding state\n",
        "def register_user(name):\n",
        "  def greet():\n",
        "    return f'Hello {name}!' # The name variable comes from the outer scope\n",
        "  def message(text):\n",
        "    return f'{name} says: {text}' # While text here is an argument\n",
        "  return greet, message # Yup, we're returning functions\n",
        "\n",
        "greet, message = register_user('Kenny')\n",
        "print(greet())\n",
        "print(message('I hate sand...'))"
      ],
      "execution_count": 40,
      "outputs": [
        {
          "output_type": "stream",
          "name": "stdout",
          "text": [
            "Hello Kenny!\n",
            "Kenny says: I hate sand...\n"
          ]
        }
      ]
    },
    {
      "cell_type": "code",
      "metadata": {
        "id": "C0Lq74DvItGh",
        "colab": {
          "base_uri": "https://localhost:8080/"
        },
        "outputId": "fad140bb-0b49-4b98-b5bf-eff9a126c8df"
      },
      "source": [
        "# Decorators are basically closures, and allow things to happen before and after\n",
        "#  a function is called\n",
        "def user_logging(func):\n",
        "    def logging(*args):\n",
        "        print(\"Logging in...\")\n",
        "        func(*args) #Calling the provided function\n",
        "        print(\"Logged out.\")\n",
        "    return logging # We're returning the function we just created\n",
        "\n",
        "@user_logging #This is a nicer way of writing user_logging(lambda text: ...)\n",
        "def send_message(text):\n",
        "  print(message(text))\n",
        "\n",
        "send_message(\"It's all coarse, and rough, and irritating. \")"
      ],
      "execution_count": 41,
      "outputs": [
        {
          "output_type": "stream",
          "name": "stdout",
          "text": [
            "Logging in...\n",
            "Kenny says: It's all coarse, and rough, and irritating. \n",
            "Logged out.\n"
          ]
        }
      ]
    },
    {
      "cell_type": "markdown",
      "metadata": {
        "id": "SaiB3N5TDe5u"
      },
      "source": [
        "## Classes & Dunders"
      ]
    },
    {
      "cell_type": "markdown",
      "metadata": {
        "id": "JkspaXCwDJMq"
      },
      "source": [
        "##### Enums [Intermediate]"
      ]
    },
    {
      "cell_type": "code",
      "metadata": {
        "colab": {
          "base_uri": "https://localhost:8080/"
        },
        "id": "BfSAA9quDM2c",
        "outputId": "285e733e-96eb-4b88-b047-c3facbbeac0a"
      },
      "source": [
        "# The quick and easy way:\n",
        "class StateEnum:\n",
        "  Off, On, Unknown = range(3) # Remember you can unpack into multiple variables?\n",
        "  \n",
        "print(StateEnum.Unknown)\n",
        "\n",
        "\n",
        "# The more professional way:\n",
        "from enum import Enum\n",
        "class Port(Enum):\n",
        "  SSH = 22\n",
        "  HTTP = 80\n",
        "  HTTPS = 443\n",
        "\n",
        "print(Port.SSH)\n",
        "print(type(Port.SSH))\n",
        "print(isinstance(Port.SSH, Port)) # Now these are actually typed correctly\n",
        "print(Port.SSH.value)"
      ],
      "execution_count": 42,
      "outputs": [
        {
          "output_type": "stream",
          "name": "stdout",
          "text": [
            "2\n",
            "Port.SSH\n",
            "<enum 'Port'>\n",
            "True\n",
            "22\n"
          ]
        }
      ]
    },
    {
      "cell_type": "markdown",
      "metadata": {
        "id": "O4eBduD8IRNO"
      },
      "source": [
        "##### Dunders [Intermediate]"
      ]
    },
    {
      "cell_type": "code",
      "metadata": {
        "id": "7YV439a5Decq",
        "colab": {
          "base_uri": "https://localhost:8080/"
        },
        "outputId": "a26a2d68-d295-451e-a697-9a1a0b3e81fd"
      },
      "source": [
        "# Dunders (short for \"double underscore\") are special builtin functions and \n",
        "#  constants in Python. One thing you can use them for is overriding Python operators.\n",
        "class Fraction:\n",
        "  def __init__(self, numerator, denominator):\n",
        "        self.numerator = numerator\n",
        "        self.denominator = denominator\n",
        "\n",
        "  # =Helper Functions=\n",
        "  def simplify(self):\n",
        "    gcf = find_gcf(self.numerator, self.denominator)\n",
        "    if gcf == -1: return self\n",
        "    return Fraction(self.numerator // gcf, self.denominator // gcf)\n",
        "\n",
        "  def decimal(self):\n",
        "    return self.numerator/self.denominator\n",
        "\n",
        "  # =Magic Functions=\n",
        "  def __add__(self, other): # Overrides self+other\n",
        "    denominator, res1, res2 = find_lcm(self.denominator, other.denominator)\n",
        "    return Fraction(int(res1 * self.numerator + res2 * other.numerator), denominator).simplify()\n",
        "\n",
        "  def __eq__(self, other): # Overrides self==other\n",
        "    self_simple = self.simplify()\n",
        "    other_simple = other.simplify()\n",
        "    return self_simple.numerator == other_simple.numerator and self_simple.denominator == other_simple.denominator\n",
        "\n",
        "  def __ge__(self, other): # Overrides self>=other\n",
        "    return self.decimal() >= other.decimal()\n",
        "\n",
        "  def __pow__(self, power, modulo=None): # Overrides self**other\n",
        "    return Fraction(self.numerator ** power, self.denominator ** power)\n",
        "\n",
        "  def __neg__(self): # Overrides -self\n",
        "    return Fraction(-1 * self.numerator, self.denominator)\n",
        "\n",
        "  def __abs__(self): # Overrides abs(self)\n",
        "    return Fraction(abs(self.numerator), abs(self.denominator))\n",
        "\n",
        "  def __str__(self): # Overrides str(self)\n",
        "    return f'{self.numerator}/{self.denominator}'\n",
        "\n",
        "  def __repr__(self): # Overrides self.__repr__()\n",
        "    return f'Fraction({self.numerator}, {self.denominator})'\n",
        "\n",
        "  def __getattr__(self, item): # If the interpreter can't find attribute in object, it returns this.\n",
        "    print(f'Sorry, {item} doesn\\'t exist in Fraction')\n",
        "    return 1\n",
        "\n",
        "# Testing dunders now\n",
        "half = Fraction(1, 2)\n",
        "third = Fraction(1, 3)\n",
        "dprint('half + third')\n",
        "two_quarters = Fraction(2, 4)\n",
        "dprint('half == two_quarters')\n",
        "dprint('half >= third')\n",
        "dprint('half ** 2')\n",
        "dprint('-half')\n",
        "dprint('abs(-half)')\n",
        "dprint('half') # Print defaults to using str(self), and if __str__ does not exist, uses __repr__\n",
        "dprint('half.__repr__()') # Repr is supposed syntactically be so that doing eval(obj.__repr__()) will return a new object\n",
        "dprint('half.foo')"
      ],
      "execution_count": 43,
      "outputs": [
        {
          "output_type": "stream",
          "name": "stdout",
          "text": [
            "half + third = 5/6\n",
            "--------------------------------------------------------------------------------\n",
            "half == two_quarters = True\n",
            "--------------------------------------------------------------------------------\n",
            "half >= third = True\n",
            "--------------------------------------------------------------------------------\n",
            "half ** 2 = 1/4\n",
            "--------------------------------------------------------------------------------\n",
            "-half = -1/2\n",
            "--------------------------------------------------------------------------------\n",
            "abs(-half) = 1/2\n",
            "--------------------------------------------------------------------------------\n",
            "half = 1/2\n",
            "--------------------------------------------------------------------------------\n",
            "half.__repr__() = Fraction(1, 2)\n",
            "--------------------------------------------------------------------------------\n",
            "Sorry, foo doesn't exist in Fraction\n",
            "half.foo = 1\n",
            "--------------------------------------------------------------------------------\n"
          ]
        }
      ]
    },
    {
      "cell_type": "markdown",
      "metadata": {
        "id": "68BW2HAdeqw9"
      },
      "source": [
        "##### Duck Typing [Advanced]"
      ]
    },
    {
      "cell_type": "code",
      "metadata": {
        "id": "cD95QnStJ9p0",
        "colab": {
          "base_uri": "https://localhost:8080/"
        },
        "outputId": "62f50b61-f4be-45cf-9bd6-ab5ef80960b2"
      },
      "source": [
        "# Duck Typing means that as long as you implement behavior that make your class \n",
        "#  act like a certain type, it might as well be it. This is a dynamic programming\n",
        "#  alternative to inheriting built-in classes.\n",
        "\n",
        "class Countdown:\n",
        "  def __init__(self, start):\n",
        "    self.count = start\n",
        "  def __iter__(self): # Iter initializes things needed for iteration and returns self\n",
        "    return self\n",
        "  def __next__(self): # Self returns next item\n",
        "    if self.count < 0: \n",
        "      raise StopIteration\n",
        "    self.count -= 1\n",
        "    return self.count + 1\n",
        "\n",
        "for i in Countdown(5):\n",
        "  print(i)\n",
        "\n",
        "# Other Duck Types:\n",
        "#  Callable: __call__\n",
        "#  Maps: __getitem__ \n",
        "#  With: __enter__, __exit__\n",
        "#  More here:\n",
        "#   https://docs.python.org/3/reference/datamodel.html#emulating-container-types"
      ],
      "execution_count": 44,
      "outputs": [
        {
          "output_type": "stream",
          "name": "stdout",
          "text": [
            "5\n",
            "4\n",
            "3\n",
            "2\n",
            "1\n",
            "0\n"
          ]
        }
      ]
    },
    {
      "cell_type": "markdown",
      "metadata": {
        "id": "2_P7XCw0jM9O"
      },
      "source": [
        "##### Dataclasses [Advanced]"
      ]
    },
    {
      "cell_type": "code",
      "metadata": {
        "id": "kBfhwoAejSDq"
      },
      "source": [
        "class Planet:\n",
        "  def __init__ (self, name, moons):\n",
        "    self.name = name # Syntax is somewhat redundant\n",
        "    self.moons = moons\n",
        "\n",
        "earth = Planet('earth', 1)\n",
        "earth_duplicate = Planet('earth', 1)\n",
        "print(earth)\n",
        "print(earth_duplicate)\n",
        "print(earth==earth_duplicate) # Is false because object addresses are not the same\n",
        "\n",
        "\n",
        "# Dataclasses automatically define __init__, __repr__, and __eq__, can also\n",
        "#  define more order and hash methods\n",
        "from dataclasses import dataclass\n",
        "#Equivalent class\n",
        "@dataclass\n",
        "class Planet: # Notice no init defined here\n",
        "  name : str\n",
        "  moons : int\n",
        "\n",
        "earth = Planet('earth', 1)\n",
        "earth_duplicate = Planet('earth', 1)\n",
        "print(earth) # __repr__ now returns tuple instead of object address\n",
        "print(earth_duplicate)\n",
        "print(earth>earth_duplicate) # Is true because tuple values are the same"
      ],
      "execution_count": null,
      "outputs": []
    },
    {
      "cell_type": "markdown",
      "metadata": {
        "id": "rXoRry8zAaAx"
      },
      "source": [
        "## Debugging"
      ]
    },
    {
      "cell_type": "markdown",
      "metadata": {
        "id": "lRVi-ubWNV2H"
      },
      "source": [
        "##### Extracting Information [Intermediate]"
      ]
    },
    {
      "cell_type": "code",
      "metadata": {
        "colab": {
          "base_uri": "https://localhost:8080/"
        },
        "id": "dhTHw0vbPFOp",
        "outputId": "0686b549-d88a-4527-9962-7e4787c98357"
      },
      "source": [
        "class PoorlyDocumentedClass:\n",
        "  \"\"\"I neeed more documentation\"\"\"\n",
        "  # Any string that starts with \"\"\" right after header is a docstring\n",
        "  def __init__(self, field):\n",
        "    self.field = field\n",
        "  def return_field(self):\n",
        "    return self.field\n",
        "\n",
        "poorly_documented_object = PoorlyDocumentedClass('Hello')\n",
        "\n",
        "dprint('type(poorly_documented_object)') # Get type\n",
        "dprint('dir(poorly_documented_object)') # Get all fields and methods\n",
        "dprint('poorly_documented_object.__dict__') # Get fields\n",
        "dprint('poorly_documented_object.__doc__') # Get docstring\n",
        "dprint('PoorlyDocumentedClass.__name__') # Get name of class\n",
        "\n",
        "# With inspect module\n",
        "import inspect\n",
        "dprint('inspect.getmembers(poorly_documented_object, inspect.ismethod)') #Get methods\n",
        "dprint('inspect.getmembers(poorly_documented_object)') # Get all methods\n",
        "dprint('inspect.getdoc(poorly_documented_object)') # Get docstring\n",
        "dprint('inspect.getfullargspec(PoorlyDocumentedClass)') # Get Arguments"
      ],
      "execution_count": 49,
      "outputs": [
        {
          "output_type": "stream",
          "name": "stdout",
          "text": [
            "type(poorly_documented_object) = <class '__main__.PoorlyDocumentedClass'>\n",
            "--------------------------------------------------------------------------------\n",
            "dir(poorly_documented_object) = ['__class__', '__delattr__', '__dict__', '__dir__', '__doc__', '__eq__', '__format__', '__ge__', '__getattribute__', '__gt__', '__hash__', '__init__', '__init_subclass__', '__le__', '__lt__', '__module__', '__ne__', '__new__', '__reduce__', '__reduce_ex__', '__repr__', '__setattr__', '__sizeof__', '__str__', '__subclasshook__', '__weakref__', 'field', 'return_field']\n",
            "--------------------------------------------------------------------------------\n",
            "poorly_documented_object.__dict__ = {'field': 'Hello'}\n",
            "--------------------------------------------------------------------------------\n",
            "poorly_documented_object.__doc__ = I neeed more documentation\n",
            "--------------------------------------------------------------------------------\n",
            "PoorlyDocumentedClass.__name__ = PoorlyDocumentedClass\n",
            "--------------------------------------------------------------------------------\n",
            "inspect.getmembers(poorly_documented_object, inspect.ismethod) = [('__init__', <bound method PoorlyDocumentedClass.__init__ of <__main__.PoorlyDocumentedClass object at 0x7fb70ed22e50>>), ('return_field', <bound method PoorlyDocumentedClass.return_field of <__main__.PoorlyDocumentedClass object at 0x7fb70ed22e50>>)]\n",
            "--------------------------------------------------------------------------------\n",
            "inspect.getmembers(poorly_documented_object) = [('__class__', <class '__main__.PoorlyDocumentedClass'>), ('__delattr__', <method-wrapper '__delattr__' of PoorlyDocumentedClass object at 0x7fb70ed22e50>), ('__dict__', {'field': 'Hello'}), ('__dir__', <built-in method __dir__ of PoorlyDocumentedClass object at 0x7fb70ed22e50>), ('__doc__', 'I neeed more documentation'), ('__eq__', <method-wrapper '__eq__' of PoorlyDocumentedClass object at 0x7fb70ed22e50>), ('__format__', <built-in method __format__ of PoorlyDocumentedClass object at 0x7fb70ed22e50>), ('__ge__', <method-wrapper '__ge__' of PoorlyDocumentedClass object at 0x7fb70ed22e50>), ('__getattribute__', <method-wrapper '__getattribute__' of PoorlyDocumentedClass object at 0x7fb70ed22e50>), ('__gt__', <method-wrapper '__gt__' of PoorlyDocumentedClass object at 0x7fb70ed22e50>), ('__hash__', <method-wrapper '__hash__' of PoorlyDocumentedClass object at 0x7fb70ed22e50>), ('__init__', <bound method PoorlyDocumentedClass.__init__ of <__main__.PoorlyDocumentedClass object at 0x7fb70ed22e50>>), ('__init_subclass__', <built-in method __init_subclass__ of type object at 0x56015bed30e0>), ('__le__', <method-wrapper '__le__' of PoorlyDocumentedClass object at 0x7fb70ed22e50>), ('__lt__', <method-wrapper '__lt__' of PoorlyDocumentedClass object at 0x7fb70ed22e50>), ('__module__', '__main__'), ('__ne__', <method-wrapper '__ne__' of PoorlyDocumentedClass object at 0x7fb70ed22e50>), ('__new__', <built-in method __new__ of type object at 0x5601584d4ba0>), ('__reduce__', <built-in method __reduce__ of PoorlyDocumentedClass object at 0x7fb70ed22e50>), ('__reduce_ex__', <built-in method __reduce_ex__ of PoorlyDocumentedClass object at 0x7fb70ed22e50>), ('__repr__', <method-wrapper '__repr__' of PoorlyDocumentedClass object at 0x7fb70ed22e50>), ('__setattr__', <method-wrapper '__setattr__' of PoorlyDocumentedClass object at 0x7fb70ed22e50>), ('__sizeof__', <built-in method __sizeof__ of PoorlyDocumentedClass object at 0x7fb70ed22e50>), ('__str__', <method-wrapper '__str__' of PoorlyDocumentedClass object at 0x7fb70ed22e50>), ('__subclasshook__', <built-in method __subclasshook__ of type object at 0x56015bed30e0>), ('__weakref__', None), ('field', 'Hello'), ('return_field', <bound method PoorlyDocumentedClass.return_field of <__main__.PoorlyDocumentedClass object at 0x7fb70ed22e50>>)]\n",
            "--------------------------------------------------------------------------------\n",
            "inspect.getdoc(poorly_documented_object) = I neeed more documentation\n",
            "--------------------------------------------------------------------------------\n",
            "inspect.getfullargspec(PoorlyDocumentedClass) = FullArgSpec(args=['self', 'field'], varargs=None, varkw=None, defaults=None, kwonlyargs=[], kwonlydefaults=None, annotations={})\n",
            "--------------------------------------------------------------------------------\n"
          ]
        }
      ]
    },
    {
      "cell_type": "markdown",
      "metadata": {
        "id": "Z7IdKNlIqh2x"
      },
      "source": [
        "##### Doctest [Advanced]"
      ]
    },
    {
      "cell_type": "code",
      "metadata": {
        "id": "K9_uHQSUrC60",
        "colab": {
          "base_uri": "https://localhost:8080/"
        },
        "outputId": "895f3a7b-081a-4f05-b6f0-17ef0e51bccf"
      },
      "source": [
        "# Doctest is a built-in Python freature where unit test as if it was run in the\n",
        "#  console is written in the docstring\n",
        "def factorial(n):\n",
        "  \"\"\"Return the factorial of n, an exact integer >= 0.\n",
        "\n",
        "  >>> [factorial(n) for n in range(6)]\n",
        "  [1, 1, 2, 6, 24, 120]\n",
        "  >>> factorial(30)\n",
        "  26525285981219105863630848000000\n",
        "  >>> factorial(-1)\n",
        "  Traceback (most recent call last):\n",
        "    ...\n",
        "  ValueError: n must be >= 0\n",
        "\n",
        "  Factorials of floats are OK, but the float must be an exact integer:\n",
        "  >>> factorial(30.1)\n",
        "  Traceback (most recent call last):\n",
        "    ...\n",
        "  ValueError: n must be exact integer\n",
        "  >>> factorial(30.0)\n",
        "  265252859812191058636308480000000\n",
        "\n",
        "  It must also not be ridiculously large:\n",
        "  >>> factorial(1e100)\n",
        "  Traceback (most recent call last):\n",
        "    ...\n",
        "  OverflowError: n too large\n",
        "  \"\"\"\n",
        "\n",
        "  import math\n",
        "  if not n >= 0:\n",
        "    raise ValueError(\"n must be >= 0\")\n",
        "  if math.floor(n) != n:\n",
        "    raise ValueError(\"n must be exact integer\")\n",
        "  if n+1 == n:  # catch a value like 1e300\n",
        "    raise OverflowError(\"n too large\")\n",
        "  result = 1\n",
        "  factor = 2\n",
        "  while factor <= n:\n",
        "    result *= factor\n",
        "    factor += 1\n",
        "  return result\n",
        "\n",
        "\n",
        "import doctest\n",
        "doctest.testmod()"
      ],
      "execution_count": 50,
      "outputs": [
        {
          "output_type": "stream",
          "name": "stderr",
          "text": [
            "\n",
            "PYDEV DEBUGGER WARNING:\n",
            "sys.settrace() should not be used when the debugger is being used.\n",
            "This may cause the debugger to stop working correctly.\n",
            "If this is needed, please check: \n",
            "http://pydev.blogspot.com/2007/06/why-cant-pydev-debugger-work-with.html\n",
            "to see how to restore the debug tracing back correctly.\n",
            "Call Location:\n",
            "  File \"/usr/lib/python3.7/doctest.py\", line 1487, in run\n",
            "    sys.settrace(save_trace)\n",
            "\n"
          ]
        },
        {
          "output_type": "stream",
          "name": "stdout",
          "text": [
            "Sorry, __wrapped__ doesn't exist in Fraction\n",
            "Sorry, __wrapped__ doesn't exist in Fraction\n",
            "Sorry, __wrapped__ doesn't exist in Fraction\n",
            "Sorry, __wrapped__ doesn't exist in Fraction\n",
            "Sorry, __wrapped__ doesn't exist in Fraction\n",
            "Sorry, __wrapped__ doesn't exist in Fraction\n",
            "**********************************************************************\n",
            "File \"__main__\", line 8, in __main__.factorial\n",
            "Failed example:\n",
            "    factorial(30)\n",
            "Expected:\n",
            "    26525285981219105863630848000000\n",
            "Got:\n",
            "    265252859812191058636308480000000\n",
            "**********************************************************************\n",
            "1 items had failures:\n",
            "   1 of   6 in __main__.factorial\n",
            "***Test Failed*** 1 failures.\n"
          ]
        },
        {
          "output_type": "execute_result",
          "data": {
            "text/plain": [
              "TestResults(failed=1, attempted=6)"
            ]
          },
          "metadata": {},
          "execution_count": 50
        }
      ]
    },
    {
      "cell_type": "markdown",
      "metadata": {
        "id": "FTYAfXg7En6c"
      },
      "source": [
        "##### Logging [Intermediate]"
      ]
    },
    {
      "cell_type": "code",
      "metadata": {
        "id": "rvV1eUZHE2uU"
      },
      "source": [
        "import logging\n",
        "\n",
        "logging.basicConfig(filename='file.log', filemode='w+', format='%(name)s - %(levelname)s - %(message)s')\n",
        "logging.debug('This is a debug message')\n",
        "logging.info('This is an info message')\n",
        "logging.warning('This is a warning message')\n",
        "logging.error('This is an error message')\n",
        "logging.critical('This is a critical message')"
      ],
      "execution_count": 1,
      "outputs": []
    },
    {
      "cell_type": "markdown",
      "metadata": {
        "id": "96TdyocnGRQN"
      },
      "source": [
        "##### PDB (Python Debugger) [Advanced]"
      ]
    },
    {
      "cell_type": "code",
      "metadata": {
        "id": "e0EkD6ytGQ3w",
        "colab": {
          "base_uri": "https://localhost:8080/"
        },
        "outputId": "cf7980e7-370a-4394-be30-e9c437be9b3b"
      },
      "source": [
        "print('Starting program')\n",
        "import pdb\n",
        "print(1)\n",
        "# Start debugger\n",
        "pdb.set_trace()\n",
        "# Use s(tep), n(next), c(continue), u(p), etc.\n",
        "print(2)\n",
        "print(3)"
      ],
      "execution_count": null,
      "outputs": [
        {
          "output_type": "stream",
          "name": "stderr",
          "text": [
            "\n",
            "PYDEV DEBUGGER WARNING:\n",
            "sys.settrace() should not be used when the debugger is being used.\n",
            "This may cause the debugger to stop working correctly.\n",
            "If this is needed, please check: \n",
            "http://pydev.blogspot.com/2007/06/why-cant-pydev-debugger-work-with.html\n",
            "to see how to restore the debug tracing back correctly.\n",
            "Call Location:\n",
            "  File \"/usr/lib/python3.7/bdb.py\", line 332, in set_trace\n",
            "    sys.settrace(self.trace_dispatch)\n",
            "\n"
          ]
        },
        {
          "output_type": "stream",
          "name": "stdout",
          "text": [
            "Starting program\n",
            "1\n",
            "--Return--\n",
            "> <ipython-input-2-3fb7ad55166b>(5)<module>()->None\n",
            "-> pdb.set_trace()\n",
            "(Pdb) 5\n",
            "5\n",
            "--KeyboardInterrupt--\n",
            "--KeyboardInterrupt--\n",
            "--KeyboardInterrupt--\n"
          ]
        }
      ]
    },
    {
      "cell_type": "markdown",
      "metadata": {
        "id": "NPJtqJHAHP9r"
      },
      "source": [
        "##### Traceback [Advanced]"
      ]
    },
    {
      "cell_type": "code",
      "metadata": {
        "id": "pYCEU4L1HVhq",
        "colab": {
          "base_uri": "https://localhost:8080/"
        },
        "outputId": "532f62f9-9695-47ff-9456-319471c6620a"
      },
      "source": [
        "import traceback\n",
        "import sys\n",
        "  \n",
        "A = [1, 2, 3, 4]\n",
        "try:\n",
        "    value = A[5]\n",
        "except:\n",
        "    traceback.print_exc() # Line and file in question\n",
        "    traceback.print_stack() # Stack trace"
      ],
      "execution_count": 3,
      "outputs": [
        {
          "output_type": "stream",
          "name": "stderr",
          "text": [
            "Traceback (most recent call last):\n",
            "  File \"<ipython-input-3-4685a6273a79>\", line 6, in <module>\n",
            "    value = A[5]\n",
            "IndexError: list index out of range\n",
            "  File \"/usr/lib/python3.7/runpy.py\", line 193, in _run_module_as_main\n",
            "    \"__main__\", mod_spec)\n",
            "  File \"/usr/lib/python3.7/runpy.py\", line 85, in _run_code\n",
            "    exec(code, run_globals)\n",
            "  File \"/usr/local/lib/python3.7/dist-packages/ipykernel_launcher.py\", line 16, in <module>\n",
            "    app.launch_new_instance()\n",
            "  File \"/usr/local/lib/python3.7/dist-packages/traitlets/config/application.py\", line 846, in launch_instance\n",
            "    app.start()\n",
            "  File \"/usr/local/lib/python3.7/dist-packages/ipykernel/kernelapp.py\", line 499, in start\n",
            "    self.io_loop.start()\n",
            "  File \"/usr/local/lib/python3.7/dist-packages/tornado/platform/asyncio.py\", line 132, in start\n",
            "    self.asyncio_loop.run_forever()\n",
            "  File \"/usr/lib/python3.7/asyncio/base_events.py\", line 541, in run_forever\n",
            "    self._run_once()\n",
            "  File \"/usr/lib/python3.7/asyncio/base_events.py\", line 1786, in _run_once\n",
            "    handle._run()\n",
            "  File \"/usr/lib/python3.7/asyncio/events.py\", line 88, in _run\n",
            "    self._context.run(self._callback, *self._args)\n",
            "  File \"/usr/local/lib/python3.7/dist-packages/tornado/platform/asyncio.py\", line 122, in _handle_events\n",
            "    handler_func(fileobj, events)\n",
            "  File \"/usr/local/lib/python3.7/dist-packages/tornado/stack_context.py\", line 300, in null_wrapper\n",
            "    return fn(*args, **kwargs)\n",
            "  File \"/usr/local/lib/python3.7/dist-packages/zmq/eventloop/zmqstream.py\", line 452, in _handle_events\n",
            "    self._handle_recv()\n",
            "  File \"/usr/local/lib/python3.7/dist-packages/zmq/eventloop/zmqstream.py\", line 481, in _handle_recv\n",
            "    self._run_callback(callback, msg)\n",
            "  File \"/usr/local/lib/python3.7/dist-packages/zmq/eventloop/zmqstream.py\", line 431, in _run_callback\n",
            "    callback(*args, **kwargs)\n",
            "  File \"/usr/local/lib/python3.7/dist-packages/tornado/stack_context.py\", line 300, in null_wrapper\n",
            "    return fn(*args, **kwargs)\n",
            "  File \"/usr/local/lib/python3.7/dist-packages/ipykernel/kernelbase.py\", line 283, in dispatcher\n",
            "    return self.dispatch_shell(stream, msg)\n",
            "  File \"/usr/local/lib/python3.7/dist-packages/ipykernel/kernelbase.py\", line 233, in dispatch_shell\n",
            "    handler(stream, idents, msg)\n",
            "  File \"/usr/local/lib/python3.7/dist-packages/ipykernel/kernelbase.py\", line 399, in execute_request\n",
            "    user_expressions, allow_stdin)\n",
            "  File \"/usr/local/lib/python3.7/dist-packages/ipykernel/ipkernel.py\", line 208, in do_execute\n",
            "    res = shell.run_cell(code, store_history=store_history, silent=silent)\n",
            "  File \"/usr/local/lib/python3.7/dist-packages/ipykernel/zmqshell.py\", line 537, in run_cell\n",
            "    return super(ZMQInteractiveShell, self).run_cell(*args, **kwargs)\n",
            "  File \"/usr/local/lib/python3.7/dist-packages/IPython/core/interactiveshell.py\", line 2718, in run_cell\n",
            "    interactivity=interactivity, compiler=compiler, result=result)\n",
            "  File \"/usr/local/lib/python3.7/dist-packages/IPython/core/interactiveshell.py\", line 2822, in run_ast_nodes\n",
            "    if self.run_code(code, result):\n",
            "  File \"/usr/local/lib/python3.7/dist-packages/IPython/core/interactiveshell.py\", line 2882, in run_code\n",
            "    exec(code_obj, self.user_global_ns, self.user_ns)\n",
            "  File \"<ipython-input-3-4685a6273a79>\", line 9, in <module>\n",
            "    traceback.print_stack() # Stack trace\n"
          ]
        }
      ]
    },
    {
      "cell_type": "markdown",
      "metadata": {
        "id": "GP8n5TE6MN8f"
      },
      "source": [
        "##### Pyperclip (Copy/Paste) [Basic]"
      ]
    },
    {
      "cell_type": "code",
      "metadata": {
        "id": "oYJ4U3m2McSI",
        "colab": {
          "base_uri": "https://localhost:8080/"
        },
        "outputId": "49d4e550-c895-4479-972b-8b654890e4b7"
      },
      "source": [
        "# Pyperclip is a Python module that can programmatically copy to clipboard.\n",
        "#  One fun way to use it is to catch and copy exceptions for easy Googling.\n",
        "\n",
        "!pip install pyperclip\n",
        "import pyperclip\n",
        "\n",
        "try:\n",
        "  [1, 4][2]\n",
        "except Exception as e:\n",
        "  #pyperclip.copy(e) Does not work in Google Colaboratory :(\n",
        "  print(e)"
      ],
      "execution_count": 4,
      "outputs": [
        {
          "output_type": "stream",
          "name": "stdout",
          "text": [
            "Collecting pyperclip\n",
            "  Downloading pyperclip-1.8.2.tar.gz (20 kB)\n",
            "Building wheels for collected packages: pyperclip\n",
            "  Building wheel for pyperclip (setup.py) ... \u001b[?25l\u001b[?25hdone\n",
            "  Created wheel for pyperclip: filename=pyperclip-1.8.2-py3-none-any.whl size=11136 sha256=0504a98d5749f23ef59b9a11e77494420d04b014e33bd1aa650b56812716cb15\n",
            "  Stored in directory: /root/.cache/pip/wheels/9f/18/84/8f69f8b08169c7bae2dde6bd7daf0c19fca8c8e500ee620a28\n",
            "Successfully built pyperclip\n",
            "Installing collected packages: pyperclip\n",
            "Successfully installed pyperclip-1.8.2\n",
            "list index out of range\n"
          ]
        }
      ]
    },
    {
      "cell_type": "markdown",
      "metadata": {
        "id": "DlIxjHgUOblt"
      },
      "source": [
        "## Test Yourself!"
      ]
    },
    {
      "cell_type": "markdown",
      "metadata": {
        "id": "0OlbrkW9nIg-"
      },
      "source": [
        "How concise can you make this code? Here's is an extremely basic calculator written by a beginner programmer, see how you used the tricks you learned to make, things better. Copy the example code to the improved code, and have fun editting. Any \"#!\" you see is a hint that it can be improved! \n",
        "\n",
        "**Usage**:\n",
        "\n",
        "First the user enters the name of the calculator and it takes 3 seconds to boot up. Then as long as the input is not an empty line, the calculator will accept a specific syntax and show the results of each operation and the total. All numbers are rounded to 2 decimal places. The calculator only takes the 4 basic mathematical operators and does not do order of operations.\n",
        "\n",
        "**Syntax**: \n",
        "\n",
        "The expression must start with a number, then alternate between an operation and a number. It must end with a number.\n",
        "* 1 - 2: Valid\n",
        "* 3 / 4 * 15.9 - 20: Valid\n",
        "* 1 -2: Invalid (No space)\n",
        "* 13 // 5: Invalid (Only +, -, *, /)"
      ]
    },
    {
      "cell_type": "markdown",
      "metadata": {
        "id": "ZbgAx0BapEX8"
      },
      "source": [
        "##### Example"
      ]
    },
    {
      "cell_type": "code",
      "metadata": {
        "id": "tsQlzJ7CUN45",
        "colab": {
          "base_uri": "https://localhost:8080/",
          "height": 522
        },
        "outputId": "1d086ac5-9236-4267-8915-e1cca17a9d9e"
      },
      "source": [
        "from time import sleep\n",
        "\n",
        "class VeryBasicCalculator:\n",
        "  def __init__(self, name):\n",
        "    self.name = name\n",
        "    self.status = 'On'\n",
        "    print('Turning on ' + name + '...') #!\n",
        "    sleep(3) # We need to wait 3 seconds before starting\n",
        "    print('On!')\n",
        "  \n",
        "  def turn_off(self):\n",
        "    self.status = 'Off'\n",
        "    print('Turning off')\n",
        "  \n",
        "  def status_str(self): #!\n",
        "    return self.name + ': ' + self.status\n",
        "  \n",
        "  def solve(self, string):\n",
        "    tokens = string.split(' ')\n",
        "    total = float(tokens[0])\n",
        "    operation = ''\n",
        "\n",
        "    for index in range(1, len(tokens)): #!\n",
        "      if index % 2 == 1: # If odd index, supposed to be operation #!\n",
        "        operation = tokens[index]\n",
        "        print(round(total, 2), operation, end=' ')\n",
        "      if index % 2 == 0: # If even index, supposed to be number #!\n",
        "        number = float(tokens[index])\n",
        "        if operation == '+': #!\n",
        "          total = total + number #!\n",
        "        if operation == '-': #!\n",
        "          total = total - number #!\n",
        "        if operation == '*': #!\n",
        "          total = total * number #!\n",
        "        if operation == '/': #!\n",
        "          total = total / number #!\n",
        "        print(round(number, 2), '=', round(total, 2)) #!\n",
        "    print('TOTAL: ' + str(round(total, 2))) #!\n",
        "    print('========')\n",
        "    print() #!\n",
        "\n",
        "\n",
        "\n",
        "calc_name = input('Calculator name: ')\n",
        "calc = VeryBasicCalculator(calc_name) #!\n",
        "print(calc.status_str(), '\\n') #!\n",
        "while True:\n",
        "  expression = input('Input: ')\n",
        "  if len(expression) == 0:\n",
        "    break\n",
        "  calc.solve(expression)\n",
        "calc.turn_off() #!"
      ],
      "execution_count": 8,
      "outputs": [
        {
          "output_type": "error",
          "ename": "KeyboardInterrupt",
          "evalue": "ignored",
          "traceback": [
            "\u001b[0;31m---------------------------------------------------------------------------\u001b[0m",
            "\u001b[0;31mKeyboardInterrupt\u001b[0m                         Traceback (most recent call last)",
            "\u001b[0;32m/usr/local/lib/python3.7/dist-packages/ipykernel/kernelbase.py\u001b[0m in \u001b[0;36m_input_request\u001b[0;34m(self, prompt, ident, parent, password)\u001b[0m\n\u001b[1;32m    728\u001b[0m             \u001b[0;32mtry\u001b[0m\u001b[0;34m:\u001b[0m\u001b[0;34m\u001b[0m\u001b[0;34m\u001b[0m\u001b[0m\n\u001b[0;32m--> 729\u001b[0;31m                 \u001b[0mident\u001b[0m\u001b[0;34m,\u001b[0m \u001b[0mreply\u001b[0m \u001b[0;34m=\u001b[0m \u001b[0mself\u001b[0m\u001b[0;34m.\u001b[0m\u001b[0msession\u001b[0m\u001b[0;34m.\u001b[0m\u001b[0mrecv\u001b[0m\u001b[0;34m(\u001b[0m\u001b[0mself\u001b[0m\u001b[0;34m.\u001b[0m\u001b[0mstdin_socket\u001b[0m\u001b[0;34m,\u001b[0m \u001b[0;36m0\u001b[0m\u001b[0;34m)\u001b[0m\u001b[0;34m\u001b[0m\u001b[0;34m\u001b[0m\u001b[0m\n\u001b[0m\u001b[1;32m    730\u001b[0m             \u001b[0;32mexcept\u001b[0m \u001b[0mException\u001b[0m\u001b[0;34m:\u001b[0m\u001b[0;34m\u001b[0m\u001b[0;34m\u001b[0m\u001b[0m\n",
            "\u001b[0;32m/usr/local/lib/python3.7/dist-packages/jupyter_client/session.py\u001b[0m in \u001b[0;36mrecv\u001b[0;34m(self, socket, mode, content, copy)\u001b[0m\n\u001b[1;32m    802\u001b[0m         \u001b[0;32mtry\u001b[0m\u001b[0;34m:\u001b[0m\u001b[0;34m\u001b[0m\u001b[0;34m\u001b[0m\u001b[0m\n\u001b[0;32m--> 803\u001b[0;31m             \u001b[0mmsg_list\u001b[0m \u001b[0;34m=\u001b[0m \u001b[0msocket\u001b[0m\u001b[0;34m.\u001b[0m\u001b[0mrecv_multipart\u001b[0m\u001b[0;34m(\u001b[0m\u001b[0mmode\u001b[0m\u001b[0;34m,\u001b[0m \u001b[0mcopy\u001b[0m\u001b[0;34m=\u001b[0m\u001b[0mcopy\u001b[0m\u001b[0;34m)\u001b[0m\u001b[0;34m\u001b[0m\u001b[0;34m\u001b[0m\u001b[0m\n\u001b[0m\u001b[1;32m    804\u001b[0m         \u001b[0;32mexcept\u001b[0m \u001b[0mzmq\u001b[0m\u001b[0;34m.\u001b[0m\u001b[0mZMQError\u001b[0m \u001b[0;32mas\u001b[0m \u001b[0me\u001b[0m\u001b[0;34m:\u001b[0m\u001b[0;34m\u001b[0m\u001b[0;34m\u001b[0m\u001b[0m\n",
            "\u001b[0;32m/usr/local/lib/python3.7/dist-packages/zmq/sugar/socket.py\u001b[0m in \u001b[0;36mrecv_multipart\u001b[0;34m(self, flags, copy, track)\u001b[0m\n\u001b[1;32m    624\u001b[0m         \"\"\"\n\u001b[0;32m--> 625\u001b[0;31m         \u001b[0mparts\u001b[0m \u001b[0;34m=\u001b[0m \u001b[0;34m[\u001b[0m\u001b[0mself\u001b[0m\u001b[0;34m.\u001b[0m\u001b[0mrecv\u001b[0m\u001b[0;34m(\u001b[0m\u001b[0mflags\u001b[0m\u001b[0;34m,\u001b[0m \u001b[0mcopy\u001b[0m\u001b[0;34m=\u001b[0m\u001b[0mcopy\u001b[0m\u001b[0;34m,\u001b[0m \u001b[0mtrack\u001b[0m\u001b[0;34m=\u001b[0m\u001b[0mtrack\u001b[0m\u001b[0;34m)\u001b[0m\u001b[0;34m]\u001b[0m\u001b[0;34m\u001b[0m\u001b[0;34m\u001b[0m\u001b[0m\n\u001b[0m\u001b[1;32m    626\u001b[0m         \u001b[0;31m# have first part already, only loop while more to receive\u001b[0m\u001b[0;34m\u001b[0m\u001b[0;34m\u001b[0m\u001b[0;34m\u001b[0m\u001b[0m\n",
            "\u001b[0;32mzmq/backend/cython/socket.pyx\u001b[0m in \u001b[0;36mzmq.backend.cython.socket.Socket.recv\u001b[0;34m()\u001b[0m\n",
            "\u001b[0;32mzmq/backend/cython/socket.pyx\u001b[0m in \u001b[0;36mzmq.backend.cython.socket.Socket.recv\u001b[0;34m()\u001b[0m\n",
            "\u001b[0;32mzmq/backend/cython/socket.pyx\u001b[0m in \u001b[0;36mzmq.backend.cython.socket._recv_copy\u001b[0;34m()\u001b[0m\n",
            "\u001b[0;32m/usr/local/lib/python3.7/dist-packages/zmq/backend/cython/checkrc.pxd\u001b[0m in \u001b[0;36mzmq.backend.cython.checkrc._check_rc\u001b[0;34m()\u001b[0m\n",
            "\u001b[0;31mKeyboardInterrupt\u001b[0m: ",
            "\nDuring handling of the above exception, another exception occurred:\n",
            "\u001b[0;31mKeyboardInterrupt\u001b[0m                         Traceback (most recent call last)",
            "\u001b[0;32m<ipython-input-8-c46c160f5b2c>\u001b[0m in \u001b[0;36m<module>\u001b[0;34m()\u001b[0m\n\u001b[1;32m     42\u001b[0m \u001b[0;34m\u001b[0m\u001b[0m\n\u001b[1;32m     43\u001b[0m \u001b[0;34m\u001b[0m\u001b[0m\n\u001b[0;32m---> 44\u001b[0;31m \u001b[0mcalc_name\u001b[0m \u001b[0;34m=\u001b[0m \u001b[0minput\u001b[0m\u001b[0;34m(\u001b[0m\u001b[0;34m'Calculator name: '\u001b[0m\u001b[0;34m)\u001b[0m\u001b[0;34m\u001b[0m\u001b[0;34m\u001b[0m\u001b[0m\n\u001b[0m\u001b[1;32m     45\u001b[0m \u001b[0mcalc\u001b[0m \u001b[0;34m=\u001b[0m \u001b[0mVeryBasicCalculator\u001b[0m\u001b[0;34m(\u001b[0m\u001b[0mcalc_name\u001b[0m\u001b[0;34m)\u001b[0m \u001b[0;31m#!\u001b[0m\u001b[0;34m\u001b[0m\u001b[0;34m\u001b[0m\u001b[0m\n\u001b[1;32m     46\u001b[0m \u001b[0mprint\u001b[0m\u001b[0;34m(\u001b[0m\u001b[0mcalc\u001b[0m\u001b[0;34m.\u001b[0m\u001b[0mstatus_str\u001b[0m\u001b[0;34m(\u001b[0m\u001b[0;34m)\u001b[0m\u001b[0;34m,\u001b[0m \u001b[0;34m'\\n'\u001b[0m\u001b[0;34m)\u001b[0m \u001b[0;31m#!\u001b[0m\u001b[0;34m\u001b[0m\u001b[0;34m\u001b[0m\u001b[0m\n",
            "\u001b[0;32m/usr/local/lib/python3.7/dist-packages/ipykernel/kernelbase.py\u001b[0m in \u001b[0;36mraw_input\u001b[0;34m(self, prompt)\u001b[0m\n\u001b[1;32m    702\u001b[0m             \u001b[0mself\u001b[0m\u001b[0;34m.\u001b[0m\u001b[0m_parent_ident\u001b[0m\u001b[0;34m,\u001b[0m\u001b[0;34m\u001b[0m\u001b[0;34m\u001b[0m\u001b[0m\n\u001b[1;32m    703\u001b[0m             \u001b[0mself\u001b[0m\u001b[0;34m.\u001b[0m\u001b[0m_parent_header\u001b[0m\u001b[0;34m,\u001b[0m\u001b[0;34m\u001b[0m\u001b[0;34m\u001b[0m\u001b[0m\n\u001b[0;32m--> 704\u001b[0;31m             \u001b[0mpassword\u001b[0m\u001b[0;34m=\u001b[0m\u001b[0;32mFalse\u001b[0m\u001b[0;34m,\u001b[0m\u001b[0;34m\u001b[0m\u001b[0;34m\u001b[0m\u001b[0m\n\u001b[0m\u001b[1;32m    705\u001b[0m         )\n\u001b[1;32m    706\u001b[0m \u001b[0;34m\u001b[0m\u001b[0m\n",
            "\u001b[0;32m/usr/local/lib/python3.7/dist-packages/ipykernel/kernelbase.py\u001b[0m in \u001b[0;36m_input_request\u001b[0;34m(self, prompt, ident, parent, password)\u001b[0m\n\u001b[1;32m    732\u001b[0m             \u001b[0;32mexcept\u001b[0m \u001b[0mKeyboardInterrupt\u001b[0m\u001b[0;34m:\u001b[0m\u001b[0;34m\u001b[0m\u001b[0;34m\u001b[0m\u001b[0m\n\u001b[1;32m    733\u001b[0m                 \u001b[0;31m# re-raise KeyboardInterrupt, to truncate traceback\u001b[0m\u001b[0;34m\u001b[0m\u001b[0;34m\u001b[0m\u001b[0;34m\u001b[0m\u001b[0m\n\u001b[0;32m--> 734\u001b[0;31m                 \u001b[0;32mraise\u001b[0m \u001b[0mKeyboardInterrupt\u001b[0m\u001b[0;34m\u001b[0m\u001b[0;34m\u001b[0m\u001b[0m\n\u001b[0m\u001b[1;32m    735\u001b[0m             \u001b[0;32melse\u001b[0m\u001b[0;34m:\u001b[0m\u001b[0;34m\u001b[0m\u001b[0;34m\u001b[0m\u001b[0m\n\u001b[1;32m    736\u001b[0m                 \u001b[0;32mbreak\u001b[0m\u001b[0;34m\u001b[0m\u001b[0;34m\u001b[0m\u001b[0m\n",
            "\u001b[0;31mKeyboardInterrupt\u001b[0m: "
          ]
        }
      ]
    },
    {
      "cell_type": "markdown",
      "metadata": {
        "id": "o23ByrIlpIf0"
      },
      "source": [
        "##### Your Code"
      ]
    },
    {
      "cell_type": "code",
      "metadata": {
        "id": "4G981MhH0Dr_"
      },
      "source": [
        "# Copy from the Example above and start making changes!"
      ],
      "execution_count": 9,
      "outputs": []
    },
    {
      "cell_type": "markdown",
      "metadata": {
        "id": "OMrl1jBgpKFT"
      },
      "source": [
        "##### Answer"
      ]
    },
    {
      "cell_type": "markdown",
      "metadata": {
        "id": "MWh4TVUPpm1v"
      },
      "source": [
        "There are countless ways to improve and implement this, but here's one way with a number of tricks."
      ]
    },
    {
      "cell_type": "code",
      "metadata": {
        "id": "yg9OMgmlYLUt",
        "colab": {
          "base_uri": "https://localhost:8080/"
        },
        "outputId": "eabbf363-217c-47dd-e846-8ae6d2e4ec69"
      },
      "source": [
        "from time import sleep\n",
        "!pip install tqdm\n",
        "from tqdm import tqdm\n",
        "\n",
        "class VeryBasicCalculator:\n",
        "  operators = {\n",
        "      '+': lambda x, y: x + y, # Lambda functions\n",
        "      '-': lambda x, y: x - y,\n",
        "      '*': lambda x, y: x * y,\n",
        "      '/': lambda x, y: x / y}\n",
        "  \n",
        "  def __init__(self, name):\n",
        "    self.name = name\n",
        "  \n",
        "  def __enter__(self): # Dunder\n",
        "    self.status = 'On'\n",
        "    print(f'Turning on {self.name}...') # F-string\n",
        "    sleep(0.5) # This is just to clear the buffer, Google Colab is weird...\n",
        "    for i in tqdm(range(5, 30), desc='Loading', position=0, leave=True): # Progress bar\n",
        "      sleep(0.1)\n",
        "    print('On!')\n",
        "    return self\n",
        "  \n",
        "  def __exit__(self, *_): # Unpacking unneeded parameters\n",
        "    self.status = 'Off'\n",
        "    print('Turning off')\n",
        "  \n",
        "  def __str__(self):\n",
        "    return self.name + ': ' + self.status\n",
        "  \n",
        "  def solve(self, string):\n",
        "    tokens = string.split(' ')\n",
        "    operations = tokens[1::2] # Advanced Indexing\n",
        "    numbers = [float(num) for num in tokens[::2]] # List Comprehension\n",
        "\n",
        "    total = numbers[0]\n",
        "    for number, operation in zip(numbers[1:], operations): # Zip (Advanced Iteration)\n",
        "      print(f'{total:6.2f}{operation}{number:6.2f}{\"=\"}', end='')\n",
        "      total = self.operators[operation](total, number)\n",
        "      print(f'{total:6.2f}')\n",
        "\n",
        "    print(f'TOTAL: {total:6.2f}'.rjust(20),'\\n', '='*20, '\\n') # Justrification\n",
        "\n",
        "\n",
        "\n",
        "with VeryBasicCalculator(input('Calculator name: ')) as calc: #Duck Typing\n",
        "  expression = input('Input: ')\n",
        "  print()\n",
        "  while expression: # Falsy\n",
        "    calc.solve(expression)\n",
        "    expression = input('Input: ')"
      ],
      "execution_count": null,
      "outputs": [
        {
          "output_type": "stream",
          "name": "stdout",
          "text": [
            "Requirement already satisfied: tqdm in /usr/local/lib/python3.7/dist-packages (4.62.2)\n"
          ]
        }
      ]
    }
  ]
}